{
 "cells": [
  {
   "cell_type": "code",
   "execution_count": 36,
   "metadata": {},
   "outputs": [],
   "source": [
    "import sqlite3\n",
    "import time\n",
    "from faker import Faker\n",
    "from faker_vehicle import VehicleProvider\n",
    "\n",
    "# https://docs.python.org/3/library/sqlite3.html"
   ]
  },
  {
   "cell_type": "code",
   "execution_count": 62,
   "metadata": {},
   "outputs": [
    {
     "data": {
      "text/plain": [
       "<sqlite3.Cursor at 0x1118ccfc0>"
      ]
     },
     "execution_count": 62,
     "metadata": {},
     "output_type": "execute_result"
    }
   ],
   "source": [
    "conn = sqlite3.connect(\":memory:\")\n",
    "cursor = conn.cursor()\n",
    "\n",
    "cursor.execute(\"DROP TABLE IF EXISTS vehicles\")\n",
    "table = \"\"\"CREATE TABLE vehicles(\n",
    "    id INTEGER PRIMARY KEY AUTOINCREMENT,\n",
    "    name VARCHAR(255) NOT NULL,\n",
    "    make VARCHAR(255) NOT NULL,\n",
    "    model VARCHAR(255) NOT NULL,\n",
    "    year TINYINT(4) NOT NULL,\n",
    "    category VARCHAR(255) NOT NULL,\n",
    "    price DECIMAL(10, 2)\n",
    ");\n",
    "\"\"\"\n",
    "\n",
    "cursor.execute(table)"
   ]
  },
  {
   "cell_type": "code",
   "execution_count": 63,
   "metadata": {},
   "outputs": [],
   "source": [
    "fake = Faker()\n",
    "fake.add_provider(VehicleProvider)\n",
    "\n",
    "for x in range(0, 10000000):\n",
    "    vehicle = fake.machine_object()\n",
    "    input = (\n",
    "        \"{} {} ({})\".format(vehicle['Make'], vehicle['Model'], vehicle['Year']), \n",
    "        vehicle['Make'], \n",
    "        vehicle['Model'], \n",
    "        vehicle['Year'], \n",
    "        vehicle['Category']\n",
    "    )\n",
    "    cursor.execute(\"\"\"\n",
    "        INSERT INTO vehicles(name, make, model, year, category) VALUES(?, ?, ?, ?, ?)\n",
    "    \"\"\", input\n",
    "    )\n",
    "conn.commit()\n"
   ]
  },
  {
   "cell_type": "code",
   "execution_count": 64,
   "metadata": {},
   "outputs": [],
   "source": [
    "def run_query(sql, name):\n",
    "    start = time.time()\n",
    "\n",
    "    res = cursor.execute(sql)\n",
    "    res.fetchall()\n",
    "\n",
    "    end = time.time()\n",
    "    duration = str((end - start) * 1000)\n",
    "\n",
    "    return {\n",
    "        name,\n",
    "        duration\n",
    "    }\n",
    "    \n",
    "\n",
    "sql = \"SELECT name, price FROM vehicles WHERE year = 2015\"\n",
    "q1 = run_query(sql, \"vehicles_by_year_without_index\")\n",
    "\n",
    "cursor.execute(\"CREATE INDEX vehicles_make_model_year_idx ON vehicles(make, model, year);\")\n",
    "cursor.execute(\"CREATE INDEX vehicles_category_idx ON vehicles(category);\")\n",
    "cursor.execute(\"CREATE INDEX vehicles_make_idx ON vehicles(make);\")\n",
    "cursor.execute(\"CREATE INDEX vehicles_model_idx ON vehicles(model);\")\n",
    "cursor.execute(\"CREATE INDEX vehicles_year_idx ON vehicles(year);\")\n",
    "\n",
    "q2 = run_query(sql, \"vehicles_by_year_with_index\")"
   ]
  },
  {
   "cell_type": "code",
   "execution_count": 65,
   "metadata": {},
   "outputs": [
    {
     "data": {
      "text/plain": [
       "({'3112.1981143951416', 'vehicles_by_year_without_index'},\n",
       " {'955.6941986083984', 'vehicles_by_year_with_index'})"
      ]
     },
     "execution_count": 65,
     "metadata": {},
     "output_type": "execute_result"
    }
   ],
   "source": [
    "q1, q2"
   ]
  },
  {
   "cell_type": "code",
   "execution_count": null,
   "metadata": {},
   "outputs": [],
   "source": [
    "\"\"\"\n",
    "CREATE INDEX vehicles_category_index ON vehicles(make, model, year);\n",
    "CREATE INDEX vehicles_category_index ON vehicles(category);\n",
    "\"\"\""
   ]
  }
 ],
 "metadata": {
  "kernelspec": {
   "display_name": "Python 3 (ipykernel)",
   "language": "python",
   "name": "python3"
  },
  "language_info": {
   "codemirror_mode": {
    "name": "ipython",
    "version": 3
   },
   "file_extension": ".py",
   "mimetype": "text/x-python",
   "name": "python",
   "nbconvert_exporter": "python",
   "pygments_lexer": "ipython3",
   "version": "3.12.3"
  }
 },
 "nbformat": 4,
 "nbformat_minor": 2
}
