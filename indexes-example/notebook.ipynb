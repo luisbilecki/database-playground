{
 "cells": [
  {
   "cell_type": "markdown",
   "metadata": {},
   "source": [
    "# Índices\n",
    "\n",
    "Esse notebook apresenta um simples exemplo de índices em uma tabela de um banco de dados relacional.\n",
    "Usou-se o sqlite3 pela sua praticidade de disponibilizar um banco em memória"
   ]
  },
  {
   "cell_type": "markdown",
   "metadata": {},
   "source": [
    "## Bibliotecas necessárias"
   ]
  },
  {
   "cell_type": "code",
   "execution_count": 1,
   "metadata": {},
   "outputs": [],
   "source": [
    "import sqlite3\n",
    "import time\n",
    "from faker import Faker\n",
    "from faker_vehicle import VehicleProvider\n",
    "import matplotlib.pyplot as plt\n",
    "import numpy as np"
   ]
  },
  {
   "cell_type": "markdown",
   "metadata": {},
   "source": [
    "- Criar cenários de teste com escala de 10 em quantidade de registros\n",
    "- Criar métodos simples para facilitar\n",
    "- Criar resultados"
   ]
  },
  {
   "cell_type": "markdown",
   "metadata": {},
   "source": [
    "## Conexão com o banco e criação da tabela"
   ]
  },
  {
   "cell_type": "code",
   "execution_count": 2,
   "metadata": {},
   "outputs": [
    {
     "data": {
      "text/plain": [
       "<sqlite3.Cursor at 0x111e506c0>"
      ]
     },
     "execution_count": 2,
     "metadata": {},
     "output_type": "execute_result"
    }
   ],
   "source": [
    "conn = sqlite3.connect(\":memory:\")\n",
    "cursor = conn.cursor()\n",
    "\n",
    "cursor.execute(\"DROP TABLE IF EXISTS vehicles\")\n",
    "table = \"\"\"CREATE TABLE vehicles(\n",
    "    id INTEGER PRIMARY KEY AUTOINCREMENT,\n",
    "    name VARCHAR(255) NOT NULL,\n",
    "    make VARCHAR(255) NOT NULL,\n",
    "    model VARCHAR(255) NOT NULL,\n",
    "    year TINYINT(4) NOT NULL,\n",
    "    category VARCHAR(255) NOT NULL,\n",
    "    price DECIMAL(10, 2)\n",
    ");\n",
    "\"\"\"\n",
    "\n",
    "cursor.execute(table)"
   ]
  },
  {
   "cell_type": "markdown",
   "metadata": {},
   "source": [
    "## Métodos relacionados a tabela do banco"
   ]
  },
  {
   "cell_type": "code",
   "execution_count": 3,
   "metadata": {},
   "outputs": [],
   "source": [
    "fake = Faker()\n",
    "fake.add_provider(VehicleProvider)\n",
    "\n",
    "def seed_vehicles(size):\n",
    "    for _ in range(0, size):\n",
    "        vehicle = fake.machine_object()\n",
    "        input = (\n",
    "            \"{} {} ({})\".format(vehicle['Make'], vehicle['Model'], vehicle['Year']), \n",
    "            vehicle['Make'], \n",
    "            vehicle['Model'], \n",
    "            vehicle['Year'], \n",
    "            vehicle['Category']\n",
    "        )\n",
    "        cursor.execute(\"\"\"\n",
    "            INSERT INTO vehicles(name, make, model, year, category) VALUES(?, ?, ?, ?, ?)\n",
    "        \"\"\", input\n",
    "        )\n",
    "    conn.commit()\n",
    "\n",
    "def clear_tables():\n",
    "    cursor.execute(\"\"\"\n",
    "        DELETE FROM vehicles\n",
    "    \"\"\")\n",
    "    conn.commit()\n",
    "\n",
    "def drop_indexes():\n",
    "    cursor.execute(\"DROP INDEX IF EXISTS vehicles_make_model_year_idx\")\n",
    "    cursor.execute(\"DROP INDEX IF EXISTS vehicles_category_idx\")\n",
    "    cursor.execute(\"DROP INDEX IF EXISTS vehicles_make_idx\")\n",
    "    cursor.execute(\"DROP INDEX IF EXISTS vehicles_model_idx\")\n",
    "    cursor.execute(\"DROP INDEX IF EXISTS vehicles_year_idx\")\n",
    "    \n",
    "def create_indexes():\n",
    "    cursor.execute(\"CREATE INDEX vehicles_make_model_year_idx ON vehicles(make, model, year)\")\n",
    "    cursor.execute(\"CREATE INDEX vehicles_category_idx ON vehicles(category)\")\n",
    "    cursor.execute(\"CREATE INDEX vehicles_make_idx ON vehicles(make)\")\n",
    "    cursor.execute(\"CREATE INDEX vehicles_model_idx ON vehicles(model)\")\n",
    "    cursor.execute(\"CREATE INDEX vehicles_year_idx ON vehicles(year)\")\n",
    "\n",
    "def run_query(sql):\n",
    "    start = time.time()\n",
    "\n",
    "    res = cursor.execute(sql)\n",
    "    res.fetchall()\n",
    "\n",
    "    end = time.time()\n",
    "    duration = str((end - start) * 1000)\n",
    "\n",
    "    return duration"
   ]
  },
  {
   "cell_type": "markdown",
   "metadata": {},
   "source": [
    "## Coleta de dados para experimentos"
   ]
  },
  {
   "cell_type": "code",
   "execution_count": 9,
   "metadata": {},
   "outputs": [
    {
     "name": "stdout",
     "output_type": "stream",
     "text": [
      "running 10 size\n",
      "finished 10 size\n",
      "running 100 size\n",
      "finished 100 size\n",
      "running 1000 size\n",
      "finished 1000 size\n",
      "running 10000 size\n",
      "finished 10000 size\n",
      "running 100000 size\n",
      "finished 100000 size\n",
      "running 1000000 size\n",
      "finished 1000000 size\n",
      "running 10000000 size\n",
      "finished 10000000 size\n"
     ]
    }
   ],
   "source": [
    "def run(size): \n",
    "    print(\"running {} size\".format(size))\n",
    "    clear_tables()\n",
    "    seed_vehicles(size)\n",
    "    query = \"SELECT name, price FROM vehicles WHERE year = 2015\"\n",
    "\n",
    "    drop_indexes()\n",
    "    non_indexed_duration = run_query(query)\n",
    "\n",
    "    create_indexes()\n",
    "    indexed_duration = run_query(query)\n",
    "\n",
    "    print(\"finished {} size\".format(size))\n",
    "    return {\n",
    "        'indexed': indexed_duration,\n",
    "        'non_indexed': non_indexed_duration\n",
    "    }\n",
    "\n",
    "data = {}\n",
    "\n",
    "data[10] = run(10)\n",
    "data[100] = run(100)\n",
    "data[1000] = run(1000)\n",
    "data[10000] = run(10000)\n",
    "data[100000] = run(100000)\n",
    "data[1000000] = run(1000000)\n",
    "data[10000000] = run(10000000)"
   ]
  },
  {
   "cell_type": "markdown",
   "metadata": {},
   "source": [
    "## Resultados"
   ]
  },
  {
   "cell_type": "code",
   "execution_count": 33,
   "metadata": {},
   "outputs": [
    {
     "data": {
      "image/png": "[encoded data removed]",
      "text/plain": [
       "<Figure size 640x480 with 1 Axes>"
      ]
     },
     "metadata": {},
     "output_type": "display_data"
    }
   ],
   "source": [
    "sample_sizes = data.keys()\n",
    "indexed_values = []\n",
    "non_indexed_values = []\n",
    "vals = data.values()\n",
    "for val in vals:\n",
    "    indexed_values.append('%.2f' % float(val['indexed']))\n",
    "    non_indexed_values.append('%.2f' % float(val['non_indexed']))\n",
    "\n",
    "execution_times = {\n",
    "    'Indexed': indexed_values,\n",
    "    'Non Indexed': non_indexed_values\n",
    "}\n",
    "\n",
    "x = np.arange(len(sample_sizes))  # the label locations\n",
    "width = 0.4  # the width of the bars\n",
    "multiplier = 0\n",
    "\n",
    "fig, ax = plt.subplots(layout='constrained')\n",
    "\n",
    "for attribute, measurement in execution_times.items():\n",
    "    offset = width * multiplier\n",
    "    rects = ax.bar(x + offset, measurement, width, label=attribute)\n",
    "    ax.bar_label(rects, padding=3)\n",
    "    multiplier += 1\n",
    "\n",
    "# Add some text for labels, title and custom x-axis tick labels, etc.\n",
    "ax.set_ylabel('Tempo (ms)')\n",
    "ax.set_title('Consulta por veículos')\n",
    "ax.set_xticks(x + width, sample_sizes)\n",
    "ax.legend(loc='upper left', ncols=3)\n",
    "\n",
    "plt.show()"
   ]
  },
  {
   "cell_type": "code",
   "execution_count": 28,
   "metadata": {},
   "outputs": [
    {
     "data": {
      "text/plain": [
       "'0.1709'"
      ]
     },
     "execution_count": 28,
     "metadata": {},
     "output_type": "execute_result"
    }
   ],
   "source": [
    "'%.4f' % float('0.17094612')"
   ]
  }
 ],
 "metadata": {
  "kernelspec": {
   "display_name": "Python 3 (ipykernel)",
   "language": "python",
   "name": "python3"
  },
  "language_info": {
   "codemirror_mode": {
    "name": "ipython",
    "version": 3
   },
   "file_extension": ".py",
   "mimetype": "text/x-python",
   "name": "python",
   "nbconvert_exporter": "python",
   "pygments_lexer": "ipython3",
   "version": "3.12.3"
  }
 },
 "nbformat": 4,
 "nbformat_minor": 2
}
